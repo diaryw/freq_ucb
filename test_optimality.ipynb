{
 "cells": [
  {
   "attachments": {},
   "cell_type": "markdown",
   "metadata": {},
   "source": [
    "# A tester for the optimality of the solution"
   ]
  },
  {
   "attachments": {},
   "cell_type": "markdown",
   "metadata": {},
   "source": [
    "The naive enumeration algorithm is used to find the optimal solution for the ranking problem. It's not efficient, but it's guaranteed to find the optimal solution. We can use it to test the optimality of the solution found by the dynamic programming."
   ]
  },
  {
   "cell_type": "code",
   "execution_count": 1,
   "metadata": {},
   "outputs": [],
   "source": [
    "import random\n",
    "import numpy as np\n",
    "import math\n",
    "from frequency import optimize, sort_by_gamma\n",
    "from benchmark import best_sequence_given_length, evaluate_sequence\n",
    "\n",
    "N = 35\n",
    "M = 4\n",
    "v = np.array([random.normalvariate(0.0597,0.0185) for i in range(N)])\n",
    "R = np.array([random.uniform(1, 2) for i in range(N)])\n",
    "q = np.array([1.1 * math.e ** (-0.03 * i) / (1 + math.e ** (-0.03 * i)) for i in range(M + 1)]) # q[0] = 1 不用"
   ]
  },
  {
   "attachments": {},
   "cell_type": "markdown",
   "metadata": {},
   "source": [
    "### Solution found by the dynamic programming"
   ]
  },
  {
   "cell_type": "code",
   "execution_count": 2,
   "metadata": {},
   "outputs": [
    {
     "name": "stdout",
     "output_type": "stream",
     "text": [
      "The maximal payoff from DP is 0.2525157992532966\n",
      "The solution found by DP is [9, 29, 28, 21]\n"
     ]
    }
   ],
   "source": [
    "max_payoff, _, message_seq, len_seq = optimize(v, R, q, M)\n",
    "print(f'The maximal payoff from DP is {max_payoff}')\n",
    "print(f'The solution found by DP is {message_seq}')"
   ]
  },
  {
   "attachments": {},
   "cell_type": "markdown",
   "metadata": {},
   "source": [
    "### Solution found by the naive enumeration"
   ]
  },
  {
   "cell_type": "code",
   "execution_count": 3,
   "metadata": {},
   "outputs": [
    {
     "name": "stdout",
     "output_type": "stream",
     "text": [
      "The maximal payoff from enumeration is 0.29019463957840785\n",
      "The solution found by enumeration is [10, 21, 29, 9]\n"
     ]
    }
   ],
   "source": [
    "max_payoff_benchmark, message_seq_benchmark = \\\n",
    "    best_sequence_given_length(v, R, q, len_seq)\n",
    "print(f'The maximal payoff from enumeration is {max_payoff_benchmark}')\n",
    "print(f'The solution found by enumeration is {message_seq_benchmark}')"
   ]
  },
  {
   "attachments": {},
   "cell_type": "markdown",
   "metadata": {},
   "source": [
    "#### Evaluate the payoff of the solutions"
   ]
  },
  {
   "cell_type": "code",
   "execution_count": 4,
   "metadata": {},
   "outputs": [
    {
     "name": "stdout",
     "output_type": "stream",
     "text": [
      "The payoff of solution from DP: 0.2408245770667012\n",
      "The payoff of solution from enumeration: 0.29019463957840785\n"
     ]
    }
   ],
   "source": [
    "print(f'The payoff of solution from DP: {evaluate_sequence(message_seq,v,R,q)}')\n",
    "print(f'The payoff of solution from enumeration: {evaluate_sequence(message_seq_benchmark,v,R,q)}')"
   ]
  }
 ],
 "metadata": {
  "kernelspec": {
   "display_name": "CAOLearning",
   "language": "python",
   "name": "python3"
  },
  "language_info": {
   "codemirror_mode": {
    "name": "ipython",
    "version": 3
   },
   "file_extension": ".py",
   "mimetype": "text/x-python",
   "name": "python",
   "nbconvert_exporter": "python",
   "pygments_lexer": "ipython3",
   "version": "3.10.10"
  },
  "orig_nbformat": 4
 },
 "nbformat": 4,
 "nbformat_minor": 2
}
